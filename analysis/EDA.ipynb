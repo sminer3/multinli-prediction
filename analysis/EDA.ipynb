{
 "cells": [
  {
   "cell_type": "code",
   "execution_count": 13,
   "metadata": {},
   "outputs": [],
   "source": [
    "import os\n",
    "import sys\n",
    "sys.path.insert(0, '../scripts/')\n",
    "import functions as fn\n",
    "import pandas as pd\n",
    "import numpy as np\n",
    "import pickle\n",
    "import matplotlib.pyplot as plt\n",
    "%matplotlib inline"
   ]
  },
  {
   "cell_type": "code",
   "execution_count": 3,
   "metadata": {},
   "outputs": [],
   "source": [
    "with open('../data/embeddings.p', 'rb') as fp:\n",
    "    embeddings = pickle.load(fp)\n",
    "train = pd.read_csv('../data/multinli_train.csv')"
   ]
  },
  {
   "cell_type": "code",
   "execution_count": 4,
   "metadata": {},
   "outputs": [],
   "source": [
    "train['sentence1'] = train.sentence1.apply(str).apply(fn.preprocess)\n",
    "train['sentence2'] = train.sentence2.apply(str).apply(fn.preprocess)"
   ]
  },
  {
   "cell_type": "code",
   "execution_count": 5,
   "metadata": {},
   "outputs": [
    {
     "data": {
      "text/html": [
       "<div>\n",
       "<style>\n",
       "    .dataframe thead tr:only-child th {\n",
       "        text-align: right;\n",
       "    }\n",
       "\n",
       "    .dataframe thead th {\n",
       "        text-align: left;\n",
       "    }\n",
       "\n",
       "    .dataframe tbody tr th {\n",
       "        vertical-align: top;\n",
       "    }\n",
       "</style>\n",
       "<table border=\"1\" class=\"dataframe\">\n",
       "  <thead>\n",
       "    <tr style=\"text-align: right;\">\n",
       "      <th></th>\n",
       "      <th>annotator_labels</th>\n",
       "      <th>sentence1</th>\n",
       "      <th>sentence2</th>\n",
       "      <th>genre</th>\n",
       "      <th>gold_label</th>\n",
       "    </tr>\n",
       "  </thead>\n",
       "  <tbody>\n",
       "    <tr>\n",
       "      <th>0</th>\n",
       "      <td>['neutral']</td>\n",
       "      <td>conceptually cream skimming has two basic dime...</td>\n",
       "      <td>product and geography are what make cream skim...</td>\n",
       "      <td>government</td>\n",
       "      <td>neutral</td>\n",
       "    </tr>\n",
       "    <tr>\n",
       "      <th>1</th>\n",
       "      <td>['entailment']</td>\n",
       "      <td>you know during the season and i guess at at y...</td>\n",
       "      <td>you lose the things to the following level if ...</td>\n",
       "      <td>telephone</td>\n",
       "      <td>entailment</td>\n",
       "    </tr>\n",
       "    <tr>\n",
       "      <th>2</th>\n",
       "      <td>['entailment']</td>\n",
       "      <td>one of our number will carry out your instruct...</td>\n",
       "      <td>a member of my team will execute your orders w...</td>\n",
       "      <td>fiction</td>\n",
       "      <td>entailment</td>\n",
       "    </tr>\n",
       "    <tr>\n",
       "      <th>3</th>\n",
       "      <td>['entailment']</td>\n",
       "      <td>how do you know all this is their information ...</td>\n",
       "      <td>this information belongs to them</td>\n",
       "      <td>fiction</td>\n",
       "      <td>entailment</td>\n",
       "    </tr>\n",
       "    <tr>\n",
       "      <th>4</th>\n",
       "      <td>['neutral']</td>\n",
       "      <td>yeah i tell you what though if you go price so...</td>\n",
       "      <td>the tennis shoes have a range of prices</td>\n",
       "      <td>telephone</td>\n",
       "      <td>neutral</td>\n",
       "    </tr>\n",
       "  </tbody>\n",
       "</table>\n",
       "</div>"
      ],
      "text/plain": [
       "  annotator_labels                                          sentence1  \\\n",
       "0      ['neutral']  conceptually cream skimming has two basic dime...   \n",
       "1   ['entailment']  you know during the season and i guess at at y...   \n",
       "2   ['entailment']  one of our number will carry out your instruct...   \n",
       "3   ['entailment']  how do you know all this is their information ...   \n",
       "4      ['neutral']  yeah i tell you what though if you go price so...   \n",
       "\n",
       "                                           sentence2       genre  gold_label  \n",
       "0  product and geography are what make cream skim...  government     neutral  \n",
       "1  you lose the things to the following level if ...   telephone  entailment  \n",
       "2  a member of my team will execute your orders w...     fiction  entailment  \n",
       "3                   this information belongs to them     fiction  entailment  \n",
       "4            the tennis shoes have a range of prices   telephone     neutral  "
      ]
     },
     "execution_count": 5,
     "metadata": {},
     "output_type": "execute_result"
    }
   ],
   "source": [
    "train.head()"
   ]
  },
  {
   "cell_type": "code",
   "execution_count": 6,
   "metadata": {},
   "outputs": [
    {
     "data": {
      "image/png": "[encoded data removed]",
      "text/plain": [
       "<matplotlib.figure.Figure at 0x1c1fe76c908>"
      ]
     },
     "metadata": {},
     "output_type": "display_data"
    }
   ],
   "source": [
    "len1 = [len(s) for s in train.sentence1]\n",
    "len2 = [len(s) for s in train.sentence2]\n",
    "n, bins, patches = plt.hist(len1,bins=50,range=(0,500),alpha=0.5,label=\"sentence1\")\n",
    "n1, bins1, patches1 = plt.hist(len2,bins=50,range=(0,500),alpha=0.5,label=\"sentence2\")\n",
    "plt.legend(loc=\"upper right\")\n",
    "plt.show()"
   ]
  },
  {
   "cell_type": "markdown",
   "metadata": {},
   "source": [
    "The distribution in length for each of the setences are very different, with sentence 1 being much longer. Sentence 1 is what is called the premise, and sentence 2 is the hypothesis (the sentence from which we evaulate whether the statements entails, contradicts, or is neutral with the premise). So the hypothesis is shorter than the premise."
   ]
  },
  {
   "cell_type": "code",
   "execution_count": 7,
   "metadata": {},
   "outputs": [
    {
     "data": {
      "text/plain": [
       "contradiction    130903\n",
       "neutral          130900\n",
       "entailment       130899\n",
       "Name: gold_label, dtype: int64"
      ]
     },
     "execution_count": 7,
     "metadata": {},
     "output_type": "execute_result"
    }
   ],
   "source": [
    "train.gold_label.value_counts()"
   ]
  },
  {
   "cell_type": "code",
   "execution_count": 8,
   "metadata": {},
   "outputs": [
    {
     "data": {
      "image/png": "[encoded data removed]",
      "text/plain": [
       "<matplotlib.figure.Figure at 0x1c1fd506898>"
      ]
     },
     "metadata": {},
     "output_type": "display_data"
    },
    {
     "data": {
      "image/png": "[encoded data removed]",
      "text/plain": [
       "<matplotlib.figure.Figure at 0x1c182d29dd8>"
      ]
     },
     "metadata": {},
     "output_type": "display_data"
    },
    {
     "data": {
      "image/png": "[encoded data removed]",
      "text/plain": [
       "<matplotlib.figure.Figure at 0x1c182da8b00>"
      ]
     },
     "metadata": {},
     "output_type": "display_data"
    }
   ],
   "source": [
    "len1 = [len(s) for s in train.query('gold_label == \"entailment\"').sentence1]\n",
    "len2 = [len(s) for s in train.query('gold_label == \"entailment\"').sentence2]\n",
    "n, bins, patches = plt.hist(len1,bins=50,range=(0,500),alpha=0.5,label=\"sentence1\")\n",
    "n1, bins1, patches1 = plt.hist(len2,bins=50,range=(0,500),alpha=0.5,label=\"sentence2\")\n",
    "plt.legend(loc=\"upper right\")\n",
    "plt.show()\n",
    "len1 = [len(s) for s in train.query('gold_label == \"neutral\"').sentence1]\n",
    "len2 = [len(s) for s in train.query('gold_label == \"neutral\"').sentence2]\n",
    "n, bins, patches = plt.hist(len1,bins=50,range=(0,500),alpha=0.5,label=\"sentence1\")\n",
    "n1, bins1, patches1 = plt.hist(len2,bins=50,range=(0,500),alpha=0.5,label=\"sentence2\")\n",
    "plt.legend(loc=\"upper right\")\n",
    "plt.show()\n",
    "len1 = [len(s) for s in train.query('gold_label == \"contradiction\"').sentence1]\n",
    "len2 = [len(s) for s in train.query('gold_label == \"contradiction\"').sentence2]\n",
    "n, bins, patches = plt.hist(len1,bins=50,range=(0,500),alpha=0.5,label=\"sentence1\")\n",
    "n1, bins1, patches1 = plt.hist(len2,bins=50,range=(0,500),alpha=0.5,label=\"sentence2\")\n",
    "plt.legend(loc=\"upper right\")\n",
    "plt.show()"
   ]
  },
  {
   "cell_type": "markdown",
   "metadata": {},
   "source": [
    "The distributions for each of the labels appear to be the same. The above shows the distribution for entailment, neutral, and conradiction"
   ]
  },
  {
   "cell_type": "code",
   "execution_count": 9,
   "metadata": {},
   "outputs": [
    {
     "data": {
      "text/plain": [
       "telephone     83348\n",
       "government    77350\n",
       "travel        77350\n",
       "fiction       77348\n",
       "slate         77306\n",
       "Name: genre, dtype: int64"
      ]
     },
     "execution_count": 9,
     "metadata": {},
     "output_type": "execute_result"
    }
   ],
   "source": [
    "train.genre.value_counts()"
   ]
  },
  {
   "cell_type": "markdown",
   "metadata": {},
   "source": [
    "The distributions across genres appear to be the same, except for having a few more telephone conversations. Next we look at a few examples for each of the genres to see what each of the topics are like"
   ]
  },
  {
   "cell_type": "code",
   "execution_count": 10,
   "metadata": {},
   "outputs": [
    {
     "name": "stdout",
     "output_type": "stream",
     "text": [
      "----------------------------------------------------------\n",
      "Genre: government\n",
      "Premise: conceptually cream skimming has two basic dimensions product and geography\n",
      "Hypothesis: product and geography are what make cream skimming work\n",
      "Evaluation: neutral\n",
      "Premise: i don't mean to be glib about your concerns but if i were you i might be more concerned about the near term rate implications of this 1\n",
      "Hypothesis: i am concerned more about your issues than the near term rate implications\n",
      "Evaluation: contradiction\n",
      "Premise: issues in data synthesis\n",
      "Hypothesis: problems in data synthesis\n",
      "Evaluation: entailment\n",
      "Premise: this analysis pooled estimates from these two studies to develop a c r function linking pm to chronic bronchitis\n",
      "Hypothesis: the analysis proves that there is no link between pm and bronchitis\n",
      "Evaluation: contradiction\n",
      "Premise: we sought to identify practices that were commonly implemented by the agencies within the past 5 years\n",
      "Hypothesis: we want to identify practices commonly used by agencies in the last 5 years\n",
      "Evaluation: entailment\n",
      "----------------------------------------------------------\n",
      "Genre: telephone\n",
      "Premise: you know during the season and i guess at at your level uh you lose them to the next level if if they decide to recall the the parent team the braves decide to call to recall a guy from triple a then a double a guy goes up to replace him and a single a guy goes up to replace him\n",
      "Hypothesis: you lose the things to the following level if the people recall\n",
      "Evaluation: entailment\n",
      "Premise: yeah i tell you what though if you go price some of those tennis shoes i can see why now you know they're getting up in the hundred dollar range\n",
      "Hypothesis: the tennis shoes have a range of prices\n",
      "Evaluation: neutral\n",
      "Premise: my walkman broke so i'm upset now i just have to turn the stereo up real loud\n",
      "Hypothesis: i'm upset that my walkman broke and now i have to turn the stereo up really loud\n",
      "Evaluation: entailment\n",
      "Premise: well you see that on television also\n",
      "Hypothesis: you can see that on television as well\n",
      "Evaluation: entailment\n",
      "Premise: well it's been very interesting\n",
      "Hypothesis: it has been very intriguing\n",
      "Evaluation: entailment\n",
      "----------------------------------------------------------\n",
      "Genre: fiction\n",
      "Premise: one of our number will carry out your instructions minutely\n",
      "Hypothesis: a member of my team will execute your orders with immense precision\n",
      "Evaluation: entailment\n",
      "Premise: how do you know all this is their information again\n",
      "Hypothesis: this information belongs to them\n",
      "Evaluation: entailment\n",
      "Premise: i burst through a set of cabin doors and fell to the ground\n",
      "Hypothesis: i burst through the doors and fell down\n",
      "Evaluation: entailment\n",
      "Premise: vrenna and i both fought him and he nearly took us\n",
      "Hypothesis: neither vrenna nor myself have ever fought him\n",
      "Evaluation: contradiction\n",
      "Premise: he turned and smiled at vrenna\n",
      "Hypothesis: he smiled at vrenna who was walking slowly behind him with her mother\n",
      "Evaluation: neutral\n",
      "----------------------------------------------------------\n",
      "Genre: travel\n",
      "Premise: but a few christian mosaics survive above the apse is the virgin with the infant jesus with the archangel gabriel to the right his companion michael to the left has vanished save for a few feathers from his wings\n",
      "Hypothesis: most of the christian mosaics were destroyed by muslims\n",
      "Evaluation: neutral\n",
      "Premise: at the end of rue des francs bourgeois is what many consider to be the city's most handsome residential square the place des vosges with its stone and red brick facades\n",
      "Hypothesis: place des vosges is constructed entirely of gray marble\n",
      "Evaluation: contradiction\n",
      "Premise: fun for adults and children\n",
      "Hypothesis: fun for only children\n",
      "Evaluation: contradiction\n",
      "Premise: thebes held onto power until the 12th dynasty when its first king amenemhet iwho reigned between 1980 1951 b c established a capital near memphis\n",
      "Hypothesis: the capital near memphis lasted only half a century before its inhabitants abandoned it for the next capital\n",
      "Evaluation: neutral\n",
      "Premise: they're made from a secret recipe handed down to the present day villagers by their mallorcan ancestors who came here in the early 17th century as part of an official repopulation scheme\n",
      "Hypothesis: the recipe passed down from mallorcan ancestors is known to everyone\n",
      "Evaluation: contradiction\n",
      "----------------------------------------------------------\n",
      "Genre: slate\n",
      "Premise: read for slate 's take on jackson's findings\n",
      "Hypothesis: slate had an opinion on jackson's findings\n",
      "Evaluation: entailment\n",
      "Premise: gays and lesbians\n",
      "Hypothesis: heterosexuals\n",
      "Evaluation: contradiction\n",
      "Premise: it's not that the questions they asked weren't interesting or legitimate though most did fall under the category of already asked and answered\n",
      "Hypothesis: all of the questions were interesting according to a focus group consulted on the subject\n",
      "Evaluation: neutral\n",
      "Premise: were they in there\n",
      "Hypothesis: were they supposed to be in there\n",
      "Evaluation: neutral\n",
      "Premise: felicia's journey takes place behind the eyes of its central a young irish girl felicia who crosses the sea to england in a hopeful quest to find the father of her unborn child and the fat middle aged catering manager hiditch who takes a paternal interest in the lass when it becomes clear that her young man has caddishly given her the slip\n",
      "Hypothesis: the woman did not care where the man was as long as it was far\n",
      "Evaluation: contradiction\n"
     ]
    }
   ],
   "source": [
    "for genre in train.genre.unique():\n",
    "    print('----------------------------------------------------------')\n",
    "    print('Genre: ' + genre)\n",
    "    sub_train = train.query('genre==@genre')\n",
    "    for i in range(5):\n",
    "        print('Premise: ' + sub_train.sentence1.iloc[i])\n",
    "        print('Hypothesis: ' + sub_train.sentence2.iloc[i])\n",
    "        print('Evaluation: ' + sub_train.gold_label.iloc[i])"
   ]
  },
  {
   "cell_type": "code",
   "execution_count": 11,
   "metadata": {},
   "outputs": [
    {
     "name": "stdout",
     "output_type": "stream",
     "text": [
      "count    392702.000000\n",
      "mean         20.060427\n",
      "std          14.417174\n",
      "min           1.000000\n",
      "25%          10.000000\n",
      "50%          17.000000\n",
      "75%          26.000000\n",
      "max         382.000000\n",
      "Name: sentence1, dtype: float64\n"
     ]
    }
   ],
   "source": [
    "print(train.sentence1.apply(lambda x: len(x.split())).describe())"
   ]
  },
  {
   "cell_type": "code",
   "execution_count": 12,
   "metadata": {},
   "outputs": [
    {
     "name": "stdout",
     "output_type": "stream",
     "text": [
      "count    392702.000000\n",
      "mean         10.021151\n",
      "std           4.275446\n",
      "min           1.000000\n",
      "25%           7.000000\n",
      "50%           9.000000\n",
      "75%          12.000000\n",
      "max          69.000000\n",
      "Name: sentence2, dtype: float64\n"
     ]
    }
   ],
   "source": [
    "print(train.sentence2.apply(lambda x: len(x.split())).describe())"
   ]
  },
  {
   "cell_type": "markdown",
   "metadata": {},
   "source": [
    "Next we look at the embeddings. The embeddings we saved are all of the tokens found in the dataset."
   ]
  },
  {
   "cell_type": "code",
   "execution_count": 24,
   "metadata": {},
   "outputs": [
    {
     "data": {
      "image/png": "[encoded data removed]",
      "text/plain": [
       "<matplotlib.figure.Figure at 0x1c182520ef0>"
      ]
     },
     "metadata": {},
     "output_type": "display_data"
    },
    {
     "name": "stdout",
     "output_type": "stream",
     "text": [
      "Average mean: -0.002695773\n"
     ]
    }
   ],
   "source": [
    "means = [np.mean(embeddings[key]) for key in embeddings.keys()]\n",
    "stds = [np.std(embeddings[key]) for key in embeddings.keys()]\n",
    "n, bins, patches = plt.hist(means,bins=50,range=(-.05,.05),alpha=0.5,label=\"sentence1\")\n",
    "plt.show()\n",
    "print('Average mean: '+str(np.mean(means)))"
   ]
  },
  {
   "cell_type": "code",
   "execution_count": 26,
   "metadata": {},
   "outputs": [
    {
     "data": {
      "image/png": "[encoded data removed]",
      "text/plain": [
       "<matplotlib.figure.Figure at 0x1c182e74ba8>"
      ]
     },
     "metadata": {},
     "output_type": "display_data"
    },
    {
     "name": "stdout",
     "output_type": "stream",
     "text": [
      "Average Standard Deviation: 0.181088\n"
     ]
    }
   ],
   "source": [
    "n, bins, patches = plt.hist(stds,bins=50,alpha=0.5,label=\"sentence1\")\n",
    "plt.show()\n",
    "print('Average Standard Deviation: ' + str(np.mean(stds)))"
   ]
  },
  {
   "cell_type": "code",
   "execution_count": null,
   "metadata": {},
   "outputs": [],
   "source": []
  }
 ],
 "metadata": {
  "kernelspec": {
   "display_name": "Python 3",
   "language": "python",
   "name": "python3"
  },
  "language_info": {
   "codemirror_mode": {
    "name": "ipython",
    "version": 3
   },
   "file_extension": ".py",
   "mimetype": "text/x-python",
   "name": "python",
   "nbconvert_exporter": "python",
   "pygments_lexer": "ipython3",
   "version": "3.5.3"
  }
 },
 "nbformat": 4,
 "nbformat_minor": 2
}
